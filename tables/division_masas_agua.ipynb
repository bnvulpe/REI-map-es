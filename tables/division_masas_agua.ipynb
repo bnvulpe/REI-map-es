{
 "cells": [
  {
   "cell_type": "code",
   "execution_count": null,
   "id": "16c6a200",
   "metadata": {},
   "outputs": [],
   "source": [
    "import geopandas as gpd\n",
    "import numpy as np\n",
    "import os\n",
    "\n",
    "# loading shapefile\n",
    "shapefile_path = \"masas-agua-supp2022-27\\masas-agua-supp2022-27.shp\" \n",
    "gdf = gpd.read_file(shapefile_path)\n",
    "\n",
    "num_parts = 6\n",
    "\n",
    "\n",
    "chunk_size = len(gdf) // num_parts\n",
    "\n",
    "# saving directory\n",
    "output_dir = \"shapefile_chunks\"\n",
    "os.makedirs(output_dir, exist_ok=True)\n",
    "\n",
    "# dividigng the GeoDataFrame into chunks\n",
    "for i in range(num_parts):\n",
    "  \n",
    "    start_idx = i * chunk_size\n",
    "    if i == num_parts - 1:\n",
    "        end_idx = len(gdf)\n",
    "    else:\n",
    "        end_idx = (i + 1) * chunk_size\n",
    "    \n",
    "\n",
    "    chunk = gdf.iloc[start_idx:end_idx]\n",
    "    \n",
    "    chunk_filename = os.path.join(output_dir, f\"chunk_{i+1}.shp\")\n",
    "    chunk.to_file(chunk_filename)\n",
    "\n",
    "    print(f\"Chunk {i+1} saved as {chunk_filename}\")\n",
    "\n",
    "print(\"Task completed.\")\n"
   ]
  },
  {
   "cell_type": "code",
   "execution_count": null,
   "id": "88452ae8",
   "metadata": {},
   "outputs": [],
   "source": [
    "# dividing the chunks further \n",
    "\n",
    "shapefile_path = \"shapefile_chunks\\chunk_2.shp\"\n",
    "gdf = gpd.read_file(shapefile_path)\n",
    "   \n",
    "num_parts = 4\n",
    "\n",
    "chunk_size = len(gdf) // num_parts\n",
    "\n",
    "output_dir = \"shapefile_chunks\"\n",
    "os.makedirs(output_dir, exist_ok=True)\n",
    "\n",
    "for i in range(num_parts):\n",
    "    start_idx = i * chunk_size\n",
    "    if i == num_parts - 1: \n",
    "        end_idx = len(gdf)\n",
    "    else:\n",
    "        end_idx = (i + 1) * chunk_size\n",
    "    \n",
    "    chunk = gdf.iloc[start_idx:end_idx]\n",
    "\n",
    "    chunk_filename = os.path.join(output_dir, f\"chunk_2_{i+1}.shp\")\n",
    "    chunk.to_file(chunk_filename)\n",
    "\n",
    "    print(f\"Chunk {i+1} saved as {chunk_filename}\")\n",
    "print(\"Task completed.\")"
   ]
  }
 ],
 "metadata": {
  "kernelspec": {
   "display_name": "Python 3",
   "language": "python",
   "name": "python3"
  },
  "language_info": {
   "codemirror_mode": {
    "name": "ipython",
    "version": 3
   },
   "file_extension": ".py",
   "mimetype": "text/x-python",
   "name": "python",
   "nbconvert_exporter": "python",
   "pygments_lexer": "ipython3",
   "version": "3.11.9"
  }
 },
 "nbformat": 4,
 "nbformat_minor": 5
}
